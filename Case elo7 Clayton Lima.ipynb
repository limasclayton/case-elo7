{
 "cells": [
  {
   "cell_type": "markdown",
   "metadata": {},
   "source": [
    "# Clayton Lima\n",
    "## Case vaga de Analytics Engineer\n",
    "\n",
    "### Contexto:\n",
    "\n",
    "A partir de uma base de dados com um histórico de informações sobre atrasos de voos em aeroportos americanos, pedimos que responda às perguntas abaixo:\n",
    "\n",
    "\n",
    "\n",
    "### Perguntas:\n",
    "\n",
    "1. Faça pelo menos 3 testes de consistência de dados da base e explique os resultados.\n",
    "\n",
    "2. Dentre os motivos que geram atrasos, qual o principal?\n",
    "\n",
    "3. Quais os aeroportos que mais sofrem com as condições climáticas? Este efeito é sazonal?\n",
    "\n",
    "4. Qual o pior ano (da base) em termos de atrasos? Dentre os motivos geradores de atrasos, houve algum que se destacou?\n",
    "\n",
    "5. Devido ao tipo de operação das companhias aéreas, quando há atraso em um voo, isso acaba impactando os voos seguintes.\n",
    "\n",
    "Dessa forma, um único problema de atraso de aeronave pode atrasar vários voos. Suponha que você precisa analisar este efeito em cascata em uma nova análise, quais dados você solicitaria?\n",
    "\n",
    "\n",
    "\n",
    "### Observações:\n",
    "\n",
    "1. Quando houver mais de uma forma de responder a pergunta (mais de um ângulo de análise), você pode elaborar premissas ou explorar os diferentes caminhos.\n",
    "\n",
    "2. Fique a vontade para utilizar a base em formato .json ou .csv\n",
    "\n",
    "3. Na pergunta 5, entende-se que a base não dispõe dos dados necessários para análise. É pedido então um exercício de definir que dados seriam necessários para analisar o que foi pedido."
   ]
  },
  {
   "cell_type": "markdown",
   "metadata": {},
   "source": [
    "# Lendo o arquivo"
   ]
  },
  {
   "cell_type": "code",
   "execution_count": 7,
   "metadata": {},
   "outputs": [
    {
     "name": "stdout",
     "output_type": "stream",
     "text": [
      "<class 'pandas.core.frame.DataFrame'>\n",
      "RangeIndex: 4408 entries, 0 to 4407\n",
      "Data columns (total 24 columns):\n",
      " #   Column                                               Non-Null Count  Dtype \n",
      "---  ------                                               --------------  ----- \n",
      " 0   Airport.Code                                         4408 non-null   object\n",
      " 1   Airport.Name                                         4408 non-null   object\n",
      " 2   Time.Label                                           4408 non-null   object\n",
      " 3   Time.Month                                           4408 non-null   int64 \n",
      " 4   Time.Month Name                                      4408 non-null   object\n",
      " 5   Time.Year                                            4408 non-null   int64 \n",
      " 6   Statistics.# of Delays.Carrier                       4408 non-null   int64 \n",
      " 7   Statistics.# of Delays.Late Aircraft                 4408 non-null   int64 \n",
      " 8   Statistics.# of Delays.National Aviation System      4408 non-null   int64 \n",
      " 9   Statistics.# of Delays.Security                      4408 non-null   int64 \n",
      " 10  Statistics.# of Delays.Weather                       4408 non-null   int64 \n",
      " 11  Statistics.Carriers.Names                            4408 non-null   object\n",
      " 12  Statistics.Carriers.Total                            4408 non-null   int64 \n",
      " 13  Statistics.Flights.Cancelled                         4408 non-null   int64 \n",
      " 14  Statistics.Flights.Delayed                           4408 non-null   int64 \n",
      " 15  Statistics.Flights.Diverted                          4408 non-null   int64 \n",
      " 16  Statistics.Flights.On Time                           4408 non-null   int64 \n",
      " 17  Statistics.Flights.Total                             4408 non-null   int64 \n",
      " 18  Statistics.Minutes Delayed.Carrier                   4408 non-null   int64 \n",
      " 19  Statistics.Minutes Delayed.Late Aircraft             4408 non-null   int64 \n",
      " 20  Statistics.Minutes Delayed.National Aviation System  4408 non-null   int64 \n",
      " 21  Statistics.Minutes Delayed.Security                  4408 non-null   int64 \n",
      " 22  Statistics.Minutes Delayed.Total                     4408 non-null   int64 \n",
      " 23  Statistics.Minutes Delayed.Weather                   4408 non-null   int64 \n",
      "dtypes: int64(19), object(5)\n",
      "memory usage: 826.6+ KB\n"
     ]
    }
   ],
   "source": [
    "import pandas as pd\n",
    "\n",
    "df_airport = pd.read_csv('input/airlines.csv')\n",
    "df_airport.info()"
   ]
  },
  {
   "cell_type": "code",
   "execution_count": null,
   "metadata": {},
   "outputs": [],
   "source": []
  }
 ],
 "metadata": {
  "kernelspec": {
   "display_name": "Python 3",
   "language": "python",
   "name": "python3"
  },
  "language_info": {
   "codemirror_mode": {
    "name": "ipython",
    "version": 3
   },
   "file_extension": ".py",
   "mimetype": "text/x-python",
   "name": "python",
   "nbconvert_exporter": "python",
   "pygments_lexer": "ipython3",
   "version": "3.8.5"
  }
 },
 "nbformat": 4,
 "nbformat_minor": 4
}
